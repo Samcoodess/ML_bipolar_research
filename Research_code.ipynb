{
  "nbformat": 4,
  "nbformat_minor": 0,
  "metadata": {
    "colab": {
      "provenance": []
    },
    "kernelspec": {
      "name": "python3",
      "display_name": "Python 3"
    },
    "language_info": {
      "name": "python"
    }
  },
  "cells": [
    {
      "cell_type": "code",
      "execution_count": null,
      "metadata": {
        "id": "kCPJXy7PWDiL"
      },
      "outputs": [],
      "source": [
        "import pandas as pd\n",
        "import numpy as np\n",
        "from sklearn.experimental import enable_iterative_imputer\n",
        "from sklearn.impute import IterativeImputer\n",
        "from sklearn.preprocessing import StandardScaler\n",
        "from sklearn.model_selection import train_test_split, cross_val_score, GridSearchCV\n",
        "from sklearn.linear_model import LogisticRegression\n",
        "from sklearn.ensemble import RandomForestClassifier, GradientBoostingClassifier\n",
        "from sklearn.svm import SVC\n",
        "from sklearn.tree import DecisionTreeClassifier\n",
        "from sklearn.neighbors import KNeighborsClassifier\n",
        "from sklearn.metrics import accuracy_score, classification_report, confusion_matrix\n",
        "from imblearn.over_sampling import SMOTE"
      ]
    },
    {
      "cell_type": "code",
      "source": [
        "import os\n",
        "import pandas as pd\n",
        "import numpy as np\n",
        "import matplotlib.pyplot as plt\n",
        "import seaborn as sns"
      ],
      "metadata": {
        "id": "rCHrjVPt4Q9w"
      },
      "execution_count": null,
      "outputs": []
    },
    {
      "cell_type": "code",
      "source": [
        "# Function to apply Iterative Imputer to the dataframe |Handling missing values\n",
        "def apply_iterative_imputer(df):\n",
        "    numerical_columns = df.select_dtypes(include=[np.number]).columns\n",
        "    non_numerical_columns = df.select_dtypes(exclude=[np.number]).columns\n",
        "\n",
        "    numerical_data = df[numerical_columns]\n",
        "    non_numerical_data = df[non_numerical_columns]\n",
        "\n",
        "    imputer = IterativeImputer(max_iter=10, random_state=42)\n",
        "    imputed_data = imputer.fit_transform(numerical_data)\n",
        "\n",
        "    imputed_numerical_data = pd.DataFrame(imputed_data, columns=numerical_columns)\n",
        "    imputed_df = pd.concat([imputed_numerical_data, non_numerical_data], axis=1)\n",
        "\n",
        "    return imputed_df"
      ],
      "metadata": {
        "id": "T11igsSZWHje"
      },
      "execution_count": null,
      "outputs": []
    },
    {
      "cell_type": "code",
      "source": [
        "from google.colab import drive\n",
        "drive.mount('/content/drive')"
      ],
      "metadata": {
        "colab": {
          "base_uri": "https://localhost:8080/"
        },
        "id": "RCV9dDf3XOPh",
        "outputId": "1cfeda4a-49ba-4920-bea8-08e237c9f3fe"
      },
      "execution_count": null,
      "outputs": [
        {
          "output_type": "stream",
          "name": "stdout",
          "text": [
            "Drive already mounted at /content/drive; to attempt to forcibly remount, call drive.mount(\"/content/drive\", force_remount=True).\n"
          ]
        }
      ]
    },
    {
      "cell_type": "code",
      "source": [
        "# Load the scores data\n",
        "scores = pd.read_csv(\"/content/drive/MyDrive/Lumiere/Data/scores - scores (1).csv\")"
      ],
      "metadata": {
        "id": "tM4N_DlYWODo"
      },
      "execution_count": null,
      "outputs": []
    },
    {
      "cell_type": "code",
      "source": [
        "data = []\n",
        "for _, row in scores.iterrows():\n",
        "  for i in range(1,23):\n",
        "    patient_data = pd.read_csv(\"/content/drive/MyDrive/Lumiere/Data/condition/condition_{}.csv\".format(i))\n",
        "    patient_data = apply_iterative_imputer(patient_data)\n",
        "    patient_activity = patient_data['activity']\n",
        "    features = [patient_activity.mean(), patient_activity.std(), patient_activity.min(), patient_activity.max()]\n",
        "    features.extend(row[['gender', 'age','marriage', 'work']].values)\n",
        "    label = 1 if row['afftype'] == 1 else 0\n",
        "    data.append(features + [label])\n",
        "\n",
        "data = pd.DataFrame(data, columns=['mean_activity', 'std_activity', 'min_activity', 'max_activity', 'days', 'age', 'marriage', 'work', 'label'])"
      ],
      "metadata": {
        "id": "R-68M0zsWaqF"
      },
      "execution_count": null,
      "outputs": []
    },
    {
      "cell_type": "code",
      "source": [
        "data = apply_iterative_imputer(data)\n",
        "data"
      ],
      "metadata": {
        "id": "COjAFMfmbPaG",
        "colab": {
          "base_uri": "https://localhost:8080/",
          "height": 423
        },
        "outputId": "e2711373-b0c8-4eb4-c323-8a824bc1af50"
      },
      "execution_count": null,
      "outputs": [
        {
          "output_type": "execute_result",
          "data": {
            "text/plain": [
              "     mean_activity  std_activity  min_activity  max_activity  days  marriage  \\\n",
              "0       146.948030    294.592424           0.0        3526.0   2.0       1.0   \n",
              "1       153.664748    330.801716           0.0        4228.0   2.0       1.0   \n",
              "2       265.299704    399.881083           3.0        3847.0   2.0       1.0   \n",
              "3       274.866998    446.048930           0.0        6776.0   2.0       1.0   \n",
              "4       167.245987    298.719629           0.0        4609.0   2.0       1.0   \n",
              "..             ...           ...           ...           ...   ...       ...   \n",
              "479      71.104090    136.137517           0.0        1355.0   1.0       2.0   \n",
              "480     157.240215    286.974106           0.0        8000.0   1.0       2.0   \n",
              "481      54.697992    148.185917           0.0        2150.0   1.0       2.0   \n",
              "482      79.480061    214.975597           0.0        3869.0   1.0       2.0   \n",
              "483     161.756063    253.512272           0.0        3222.0   1.0       2.0   \n",
              "\n",
              "     work  label    age  \n",
              "0     2.0    0.0  35-39  \n",
              "1     2.0    0.0  35-39  \n",
              "2     2.0    0.0  35-39  \n",
              "3     2.0    0.0  35-39  \n",
              "4     2.0    0.0  35-39  \n",
              "..    ...    ...    ...  \n",
              "479   2.0    0.0  30-34  \n",
              "480   2.0    0.0  30-34  \n",
              "481   2.0    0.0  30-34  \n",
              "482   2.0    0.0  30-34  \n",
              "483   2.0    0.0  30-34  \n",
              "\n",
              "[484 rows x 9 columns]"
            ],
            "text/html": [
              "\n",
              "  <div id=\"df-17a9cedc-9722-43e6-a119-dc32d46674e0\">\n",
              "    <div class=\"colab-df-container\">\n",
              "      <div>\n",
              "<style scoped>\n",
              "    .dataframe tbody tr th:only-of-type {\n",
              "        vertical-align: middle;\n",
              "    }\n",
              "\n",
              "    .dataframe tbody tr th {\n",
              "        vertical-align: top;\n",
              "    }\n",
              "\n",
              "    .dataframe thead th {\n",
              "        text-align: right;\n",
              "    }\n",
              "</style>\n",
              "<table border=\"1\" class=\"dataframe\">\n",
              "  <thead>\n",
              "    <tr style=\"text-align: right;\">\n",
              "      <th></th>\n",
              "      <th>mean_activity</th>\n",
              "      <th>std_activity</th>\n",
              "      <th>min_activity</th>\n",
              "      <th>max_activity</th>\n",
              "      <th>days</th>\n",
              "      <th>marriage</th>\n",
              "      <th>work</th>\n",
              "      <th>label</th>\n",
              "      <th>age</th>\n",
              "    </tr>\n",
              "  </thead>\n",
              "  <tbody>\n",
              "    <tr>\n",
              "      <th>0</th>\n",
              "      <td>146.948030</td>\n",
              "      <td>294.592424</td>\n",
              "      <td>0.0</td>\n",
              "      <td>3526.0</td>\n",
              "      <td>2.0</td>\n",
              "      <td>1.0</td>\n",
              "      <td>2.0</td>\n",
              "      <td>0.0</td>\n",
              "      <td>35-39</td>\n",
              "    </tr>\n",
              "    <tr>\n",
              "      <th>1</th>\n",
              "      <td>153.664748</td>\n",
              "      <td>330.801716</td>\n",
              "      <td>0.0</td>\n",
              "      <td>4228.0</td>\n",
              "      <td>2.0</td>\n",
              "      <td>1.0</td>\n",
              "      <td>2.0</td>\n",
              "      <td>0.0</td>\n",
              "      <td>35-39</td>\n",
              "    </tr>\n",
              "    <tr>\n",
              "      <th>2</th>\n",
              "      <td>265.299704</td>\n",
              "      <td>399.881083</td>\n",
              "      <td>3.0</td>\n",
              "      <td>3847.0</td>\n",
              "      <td>2.0</td>\n",
              "      <td>1.0</td>\n",
              "      <td>2.0</td>\n",
              "      <td>0.0</td>\n",
              "      <td>35-39</td>\n",
              "    </tr>\n",
              "    <tr>\n",
              "      <th>3</th>\n",
              "      <td>274.866998</td>\n",
              "      <td>446.048930</td>\n",
              "      <td>0.0</td>\n",
              "      <td>6776.0</td>\n",
              "      <td>2.0</td>\n",
              "      <td>1.0</td>\n",
              "      <td>2.0</td>\n",
              "      <td>0.0</td>\n",
              "      <td>35-39</td>\n",
              "    </tr>\n",
              "    <tr>\n",
              "      <th>4</th>\n",
              "      <td>167.245987</td>\n",
              "      <td>298.719629</td>\n",
              "      <td>0.0</td>\n",
              "      <td>4609.0</td>\n",
              "      <td>2.0</td>\n",
              "      <td>1.0</td>\n",
              "      <td>2.0</td>\n",
              "      <td>0.0</td>\n",
              "      <td>35-39</td>\n",
              "    </tr>\n",
              "    <tr>\n",
              "      <th>...</th>\n",
              "      <td>...</td>\n",
              "      <td>...</td>\n",
              "      <td>...</td>\n",
              "      <td>...</td>\n",
              "      <td>...</td>\n",
              "      <td>...</td>\n",
              "      <td>...</td>\n",
              "      <td>...</td>\n",
              "      <td>...</td>\n",
              "    </tr>\n",
              "    <tr>\n",
              "      <th>479</th>\n",
              "      <td>71.104090</td>\n",
              "      <td>136.137517</td>\n",
              "      <td>0.0</td>\n",
              "      <td>1355.0</td>\n",
              "      <td>1.0</td>\n",
              "      <td>2.0</td>\n",
              "      <td>2.0</td>\n",
              "      <td>0.0</td>\n",
              "      <td>30-34</td>\n",
              "    </tr>\n",
              "    <tr>\n",
              "      <th>480</th>\n",
              "      <td>157.240215</td>\n",
              "      <td>286.974106</td>\n",
              "      <td>0.0</td>\n",
              "      <td>8000.0</td>\n",
              "      <td>1.0</td>\n",
              "      <td>2.0</td>\n",
              "      <td>2.0</td>\n",
              "      <td>0.0</td>\n",
              "      <td>30-34</td>\n",
              "    </tr>\n",
              "    <tr>\n",
              "      <th>481</th>\n",
              "      <td>54.697992</td>\n",
              "      <td>148.185917</td>\n",
              "      <td>0.0</td>\n",
              "      <td>2150.0</td>\n",
              "      <td>1.0</td>\n",
              "      <td>2.0</td>\n",
              "      <td>2.0</td>\n",
              "      <td>0.0</td>\n",
              "      <td>30-34</td>\n",
              "    </tr>\n",
              "    <tr>\n",
              "      <th>482</th>\n",
              "      <td>79.480061</td>\n",
              "      <td>214.975597</td>\n",
              "      <td>0.0</td>\n",
              "      <td>3869.0</td>\n",
              "      <td>1.0</td>\n",
              "      <td>2.0</td>\n",
              "      <td>2.0</td>\n",
              "      <td>0.0</td>\n",
              "      <td>30-34</td>\n",
              "    </tr>\n",
              "    <tr>\n",
              "      <th>483</th>\n",
              "      <td>161.756063</td>\n",
              "      <td>253.512272</td>\n",
              "      <td>0.0</td>\n",
              "      <td>3222.0</td>\n",
              "      <td>1.0</td>\n",
              "      <td>2.0</td>\n",
              "      <td>2.0</td>\n",
              "      <td>0.0</td>\n",
              "      <td>30-34</td>\n",
              "    </tr>\n",
              "  </tbody>\n",
              "</table>\n",
              "<p>484 rows × 9 columns</p>\n",
              "</div>\n",
              "      <button class=\"colab-df-convert\" onclick=\"convertToInteractive('df-17a9cedc-9722-43e6-a119-dc32d46674e0')\"\n",
              "              title=\"Convert this dataframe to an interactive table.\"\n",
              "              style=\"display:none;\">\n",
              "        \n",
              "  <svg xmlns=\"http://www.w3.org/2000/svg\" height=\"24px\"viewBox=\"0 0 24 24\"\n",
              "       width=\"24px\">\n",
              "    <path d=\"M0 0h24v24H0V0z\" fill=\"none\"/>\n",
              "    <path d=\"M18.56 5.44l.94 2.06.94-2.06 2.06-.94-2.06-.94-.94-2.06-.94 2.06-2.06.94zm-11 1L8.5 8.5l.94-2.06 2.06-.94-2.06-.94L8.5 2.5l-.94 2.06-2.06.94zm10 10l.94 2.06.94-2.06 2.06-.94-2.06-.94-.94-2.06-.94 2.06-2.06.94z\"/><path d=\"M17.41 7.96l-1.37-1.37c-.4-.4-.92-.59-1.43-.59-.52 0-1.04.2-1.43.59L10.3 9.45l-7.72 7.72c-.78.78-.78 2.05 0 2.83L4 21.41c.39.39.9.59 1.41.59.51 0 1.02-.2 1.41-.59l7.78-7.78 2.81-2.81c.8-.78.8-2.07 0-2.86zM5.41 20L4 18.59l7.72-7.72 1.47 1.35L5.41 20z\"/>\n",
              "  </svg>\n",
              "      </button>\n",
              "      \n",
              "  <style>\n",
              "    .colab-df-container {\n",
              "      display:flex;\n",
              "      flex-wrap:wrap;\n",
              "      gap: 12px;\n",
              "    }\n",
              "\n",
              "    .colab-df-convert {\n",
              "      background-color: #E8F0FE;\n",
              "      border: none;\n",
              "      border-radius: 50%;\n",
              "      cursor: pointer;\n",
              "      display: none;\n",
              "      fill: #1967D2;\n",
              "      height: 32px;\n",
              "      padding: 0 0 0 0;\n",
              "      width: 32px;\n",
              "    }\n",
              "\n",
              "    .colab-df-convert:hover {\n",
              "      background-color: #E2EBFA;\n",
              "      box-shadow: 0px 1px 2px rgba(60, 64, 67, 0.3), 0px 1px 3px 1px rgba(60, 64, 67, 0.15);\n",
              "      fill: #174EA6;\n",
              "    }\n",
              "\n",
              "    [theme=dark] .colab-df-convert {\n",
              "      background-color: #3B4455;\n",
              "      fill: #D2E3FC;\n",
              "    }\n",
              "\n",
              "    [theme=dark] .colab-df-convert:hover {\n",
              "      background-color: #434B5C;\n",
              "      box-shadow: 0px 1px 3px 1px rgba(0, 0, 0, 0.15);\n",
              "      filter: drop-shadow(0px 1px 2px rgba(0, 0, 0, 0.3));\n",
              "      fill: #FFFFFF;\n",
              "    }\n",
              "  </style>\n",
              "\n",
              "      <script>\n",
              "        const buttonEl =\n",
              "          document.querySelector('#df-17a9cedc-9722-43e6-a119-dc32d46674e0 button.colab-df-convert');\n",
              "        buttonEl.style.display =\n",
              "          google.colab.kernel.accessAllowed ? 'block' : 'none';\n",
              "\n",
              "        async function convertToInteractive(key) {\n",
              "          const element = document.querySelector('#df-17a9cedc-9722-43e6-a119-dc32d46674e0');\n",
              "          const dataTable =\n",
              "            await google.colab.kernel.invokeFunction('convertToInteractive',\n",
              "                                                     [key], {});\n",
              "          if (!dataTable) return;\n",
              "\n",
              "          const docLinkHtml = 'Like what you see? Visit the ' +\n",
              "            '<a target=\"_blank\" href=https://colab.research.google.com/notebooks/data_table.ipynb>data table notebook</a>'\n",
              "            + ' to learn more about interactive tables.';\n",
              "          element.innerHTML = '';\n",
              "          dataTable['output_type'] = 'display_data';\n",
              "          await google.colab.output.renderOutput(dataTable, element);\n",
              "          const docLink = document.createElement('div');\n",
              "          docLink.innerHTML = docLinkHtml;\n",
              "          element.appendChild(docLink);\n",
              "        }\n",
              "      </script>\n",
              "    </div>\n",
              "  </div>\n",
              "  "
            ]
          },
          "metadata": {},
          "execution_count": 105
        }
      ]
    },
    {
      "cell_type": "code",
      "source": [
        "# # Handle missing values\n",
        "# imputer = IterativeImputer()\n",
        "# data_imputed = imputer.fit_transform(data.drop(columns=['label']))\n",
        "# data = pd.DataFrame(data_imputed, columns=data.columns[:-1])\n"
      ],
      "metadata": {
        "id": "dWzWoTQ6hVwY"
      },
      "execution_count": null,
      "outputs": []
    },
    {
      "cell_type": "code",
      "source": [
        "data.tail()"
      ],
      "metadata": {
        "colab": {
          "base_uri": "https://localhost:8080/",
          "height": 206
        },
        "id": "YMwXCYJzaYwp",
        "outputId": "96bcbe3f-abef-4447-b170-7233053785e4"
      },
      "execution_count": null,
      "outputs": [
        {
          "output_type": "execute_result",
          "data": {
            "text/plain": [
              "     mean_activity  std_activity  min_activity  max_activity  days  marriage  \\\n",
              "479      71.104090    136.137517           0.0        1355.0   1.0       2.0   \n",
              "480     157.240215    286.974106           0.0        8000.0   1.0       2.0   \n",
              "481      54.697992    148.185917           0.0        2150.0   1.0       2.0   \n",
              "482      79.480061    214.975597           0.0        3869.0   1.0       2.0   \n",
              "483     161.756063    253.512272           0.0        3222.0   1.0       2.0   \n",
              "\n",
              "     work  label    age  \n",
              "479   2.0    0.0  30-34  \n",
              "480   2.0    0.0  30-34  \n",
              "481   2.0    0.0  30-34  \n",
              "482   2.0    0.0  30-34  \n",
              "483   2.0    0.0  30-34  "
            ],
            "text/html": [
              "\n",
              "  <div id=\"df-eb00bf91-1e8b-4697-9cff-3a5baf08d0b8\">\n",
              "    <div class=\"colab-df-container\">\n",
              "      <div>\n",
              "<style scoped>\n",
              "    .dataframe tbody tr th:only-of-type {\n",
              "        vertical-align: middle;\n",
              "    }\n",
              "\n",
              "    .dataframe tbody tr th {\n",
              "        vertical-align: top;\n",
              "    }\n",
              "\n",
              "    .dataframe thead th {\n",
              "        text-align: right;\n",
              "    }\n",
              "</style>\n",
              "<table border=\"1\" class=\"dataframe\">\n",
              "  <thead>\n",
              "    <tr style=\"text-align: right;\">\n",
              "      <th></th>\n",
              "      <th>mean_activity</th>\n",
              "      <th>std_activity</th>\n",
              "      <th>min_activity</th>\n",
              "      <th>max_activity</th>\n",
              "      <th>days</th>\n",
              "      <th>marriage</th>\n",
              "      <th>work</th>\n",
              "      <th>label</th>\n",
              "      <th>age</th>\n",
              "    </tr>\n",
              "  </thead>\n",
              "  <tbody>\n",
              "    <tr>\n",
              "      <th>479</th>\n",
              "      <td>71.104090</td>\n",
              "      <td>136.137517</td>\n",
              "      <td>0.0</td>\n",
              "      <td>1355.0</td>\n",
              "      <td>1.0</td>\n",
              "      <td>2.0</td>\n",
              "      <td>2.0</td>\n",
              "      <td>0.0</td>\n",
              "      <td>30-34</td>\n",
              "    </tr>\n",
              "    <tr>\n",
              "      <th>480</th>\n",
              "      <td>157.240215</td>\n",
              "      <td>286.974106</td>\n",
              "      <td>0.0</td>\n",
              "      <td>8000.0</td>\n",
              "      <td>1.0</td>\n",
              "      <td>2.0</td>\n",
              "      <td>2.0</td>\n",
              "      <td>0.0</td>\n",
              "      <td>30-34</td>\n",
              "    </tr>\n",
              "    <tr>\n",
              "      <th>481</th>\n",
              "      <td>54.697992</td>\n",
              "      <td>148.185917</td>\n",
              "      <td>0.0</td>\n",
              "      <td>2150.0</td>\n",
              "      <td>1.0</td>\n",
              "      <td>2.0</td>\n",
              "      <td>2.0</td>\n",
              "      <td>0.0</td>\n",
              "      <td>30-34</td>\n",
              "    </tr>\n",
              "    <tr>\n",
              "      <th>482</th>\n",
              "      <td>79.480061</td>\n",
              "      <td>214.975597</td>\n",
              "      <td>0.0</td>\n",
              "      <td>3869.0</td>\n",
              "      <td>1.0</td>\n",
              "      <td>2.0</td>\n",
              "      <td>2.0</td>\n",
              "      <td>0.0</td>\n",
              "      <td>30-34</td>\n",
              "    </tr>\n",
              "    <tr>\n",
              "      <th>483</th>\n",
              "      <td>161.756063</td>\n",
              "      <td>253.512272</td>\n",
              "      <td>0.0</td>\n",
              "      <td>3222.0</td>\n",
              "      <td>1.0</td>\n",
              "      <td>2.0</td>\n",
              "      <td>2.0</td>\n",
              "      <td>0.0</td>\n",
              "      <td>30-34</td>\n",
              "    </tr>\n",
              "  </tbody>\n",
              "</table>\n",
              "</div>\n",
              "      <button class=\"colab-df-convert\" onclick=\"convertToInteractive('df-eb00bf91-1e8b-4697-9cff-3a5baf08d0b8')\"\n",
              "              title=\"Convert this dataframe to an interactive table.\"\n",
              "              style=\"display:none;\">\n",
              "        \n",
              "  <svg xmlns=\"http://www.w3.org/2000/svg\" height=\"24px\"viewBox=\"0 0 24 24\"\n",
              "       width=\"24px\">\n",
              "    <path d=\"M0 0h24v24H0V0z\" fill=\"none\"/>\n",
              "    <path d=\"M18.56 5.44l.94 2.06.94-2.06 2.06-.94-2.06-.94-.94-2.06-.94 2.06-2.06.94zm-11 1L8.5 8.5l.94-2.06 2.06-.94-2.06-.94L8.5 2.5l-.94 2.06-2.06.94zm10 10l.94 2.06.94-2.06 2.06-.94-2.06-.94-.94-2.06-.94 2.06-2.06.94z\"/><path d=\"M17.41 7.96l-1.37-1.37c-.4-.4-.92-.59-1.43-.59-.52 0-1.04.2-1.43.59L10.3 9.45l-7.72 7.72c-.78.78-.78 2.05 0 2.83L4 21.41c.39.39.9.59 1.41.59.51 0 1.02-.2 1.41-.59l7.78-7.78 2.81-2.81c.8-.78.8-2.07 0-2.86zM5.41 20L4 18.59l7.72-7.72 1.47 1.35L5.41 20z\"/>\n",
              "  </svg>\n",
              "      </button>\n",
              "      \n",
              "  <style>\n",
              "    .colab-df-container {\n",
              "      display:flex;\n",
              "      flex-wrap:wrap;\n",
              "      gap: 12px;\n",
              "    }\n",
              "\n",
              "    .colab-df-convert {\n",
              "      background-color: #E8F0FE;\n",
              "      border: none;\n",
              "      border-radius: 50%;\n",
              "      cursor: pointer;\n",
              "      display: none;\n",
              "      fill: #1967D2;\n",
              "      height: 32px;\n",
              "      padding: 0 0 0 0;\n",
              "      width: 32px;\n",
              "    }\n",
              "\n",
              "    .colab-df-convert:hover {\n",
              "      background-color: #E2EBFA;\n",
              "      box-shadow: 0px 1px 2px rgba(60, 64, 67, 0.3), 0px 1px 3px 1px rgba(60, 64, 67, 0.15);\n",
              "      fill: #174EA6;\n",
              "    }\n",
              "\n",
              "    [theme=dark] .colab-df-convert {\n",
              "      background-color: #3B4455;\n",
              "      fill: #D2E3FC;\n",
              "    }\n",
              "\n",
              "    [theme=dark] .colab-df-convert:hover {\n",
              "      background-color: #434B5C;\n",
              "      box-shadow: 0px 1px 3px 1px rgba(0, 0, 0, 0.15);\n",
              "      filter: drop-shadow(0px 1px 2px rgba(0, 0, 0, 0.3));\n",
              "      fill: #FFFFFF;\n",
              "    }\n",
              "  </style>\n",
              "\n",
              "      <script>\n",
              "        const buttonEl =\n",
              "          document.querySelector('#df-eb00bf91-1e8b-4697-9cff-3a5baf08d0b8 button.colab-df-convert');\n",
              "        buttonEl.style.display =\n",
              "          google.colab.kernel.accessAllowed ? 'block' : 'none';\n",
              "\n",
              "        async function convertToInteractive(key) {\n",
              "          const element = document.querySelector('#df-eb00bf91-1e8b-4697-9cff-3a5baf08d0b8');\n",
              "          const dataTable =\n",
              "            await google.colab.kernel.invokeFunction('convertToInteractive',\n",
              "                                                     [key], {});\n",
              "          if (!dataTable) return;\n",
              "\n",
              "          const docLinkHtml = 'Like what you see? Visit the ' +\n",
              "            '<a target=\"_blank\" href=https://colab.research.google.com/notebooks/data_table.ipynb>data table notebook</a>'\n",
              "            + ' to learn more about interactive tables.';\n",
              "          element.innerHTML = '';\n",
              "          dataTable['output_type'] = 'display_data';\n",
              "          await google.colab.output.renderOutput(dataTable, element);\n",
              "          const docLink = document.createElement('div');\n",
              "          docLink.innerHTML = docLinkHtml;\n",
              "          element.appendChild(docLink);\n",
              "        }\n",
              "      </script>\n",
              "    </div>\n",
              "  </div>\n",
              "  "
            ]
          },
          "metadata": {},
          "execution_count": 107
        }
      ]
    },
    {
      "cell_type": "code",
      "source": [
        "# Visualize distribution of age groups\n",
        "sns.countplot(x=\"age\", data=data)\n",
        "plt.title(\"Age Group Distribution\")\n",
        "plt.show()\n"
      ],
      "metadata": {
        "colab": {
          "base_uri": "https://localhost:8080/",
          "height": 472
        },
        "id": "LY9lMo6W3mQb",
        "outputId": "2bd1f32a-75db-4c13-bc8b-6bf117f1fcb7"
      },
      "execution_count": null,
      "outputs": [
        {
          "output_type": "display_data",
          "data": {
            "text/plain": [
              "<Figure size 640x480 with 1 Axes>"
            ],
            "image/png": "[encoded data removed]"
          },
          "metadata": {}
        }
      ]
    },
    {
      "cell_type": "code",
      "source": [
        "# Define the new labels\n",
        "new_labels = [ \"Bipolar II\",\"Unipolar Depression\",\"Bipolar I\"]\n",
        "#1: bipolar II, 2: unipolar depressive, 3: bipolar I\n",
        "\n",
        "# Visualize distribution of depression types\n",
        "ax = sns.countplot(x=\"afftype\", data=scores, order=[1, 2, 3], palette=\"husl\",\n",
        "              edgecolor=\"black\", linewidth=1.5, saturation=0.8,\n",
        "              alpha=0.8, label=\"Count\")\n",
        "\n",
        "# Set x-axis tick labels\n",
        "ax.set_xticklabels(new_labels)\n",
        "\n",
        "# Add axis labels and title\n",
        "plt.xlabel(\"Depression Type\", fontsize=14)\n",
        "plt.ylabel(\"Count\", fontsize=14)\n",
        "plt.title(\"Depression Type Distribution\", fontsize=16)\n",
        "\n",
        "# Show the plot\n",
        "plt.show()\n"
      ],
      "metadata": {
        "colab": {
          "base_uri": "https://localhost:8080/",
          "height": 479
        },
        "id": "AZkVGCtc4bAS",
        "outputId": "ce54795c-780b-4146-b294-655df508c995"
      },
      "execution_count": null,
      "outputs": [
        {
          "output_type": "display_data",
          "data": {
            "text/plain": [
              "<Figure size 640x480 with 1 Axes>"
            ],
            "image/png": "[encoded data removed]"
          },
          "metadata": {}
        }
      ]
    },
    {
      "cell_type": "code",
      "source": [
        "l=[]\n",
        "for i in data['age']:\n",
        "  a= i[0]+i[1]\n",
        "  l.append(int(a))\n",
        "print(l)"
      ],
      "metadata": {
        "colab": {
          "base_uri": "https://localhost:8080/"
        },
        "id": "Znrmtq5RTAof",
        "outputId": "f41a8ef7-ef09-438f-d60d-c6746f93b371"
      },
      "execution_count": null,
      "outputs": [
        {
          "output_type": "stream",
          "name": "stdout",
          "text": [
            "[35, 35, 35, 35, 35, 35, 35, 35, 35, 35, 35, 35, 35, 35, 35, 35, 35, 35, 35, 35, 35, 35, 40, 40, 40, 40, 40, 40, 40, 40, 40, 40, 40, 40, 40, 40, 40, 40, 40, 40, 40, 40, 40, 40, 45, 45, 45, 45, 45, 45, 45, 45, 45, 45, 45, 45, 45, 45, 45, 45, 45, 45, 45, 45, 45, 45, 25, 25, 25, 25, 25, 25, 25, 25, 25, 25, 25, 25, 25, 25, 25, 25, 25, 25, 25, 25, 25, 25, 50, 50, 50, 50, 50, 50, 50, 50, 50, 50, 50, 50, 50, 50, 50, 50, 50, 50, 50, 50, 50, 50, 35, 35, 35, 35, 35, 35, 35, 35, 35, 35, 35, 35, 35, 35, 35, 35, 35, 35, 35, 35, 35, 35, 20, 20, 20, 20, 20, 20, 20, 20, 20, 20, 20, 20, 20, 20, 20, 20, 20, 20, 20, 20, 20, 20, 25, 25, 25, 25, 25, 25, 25, 25, 25, 25, 25, 25, 25, 25, 25, 25, 25, 25, 25, 25, 25, 25, 45, 45, 45, 45, 45, 45, 45, 45, 45, 45, 45, 45, 45, 45, 45, 45, 45, 45, 45, 45, 45, 45, 45, 45, 45, 45, 45, 45, 45, 45, 45, 45, 45, 45, 45, 45, 45, 45, 45, 45, 45, 45, 45, 45, 45, 45, 45, 45, 45, 45, 45, 45, 45, 45, 45, 45, 45, 45, 45, 45, 45, 45, 45, 45, 45, 45, 40, 40, 40, 40, 40, 40, 40, 40, 40, 40, 40, 40, 40, 40, 40, 40, 40, 40, 40, 40, 40, 40, 35, 35, 35, 35, 35, 35, 35, 35, 35, 35, 35, 35, 35, 35, 35, 35, 35, 35, 35, 35, 35, 35, 60, 60, 60, 60, 60, 60, 60, 60, 60, 60, 60, 60, 60, 60, 60, 60, 60, 60, 60, 60, 60, 60, 55, 55, 55, 55, 55, 55, 55, 55, 55, 55, 55, 55, 55, 55, 55, 55, 55, 55, 55, 55, 55, 55, 45, 45, 45, 45, 45, 45, 45, 45, 45, 45, 45, 45, 45, 45, 45, 45, 45, 45, 45, 45, 45, 45, 50, 50, 50, 50, 50, 50, 50, 50, 50, 50, 50, 50, 50, 50, 50, 50, 50, 50, 50, 50, 50, 50, 50, 50, 50, 50, 50, 50, 50, 50, 50, 50, 50, 50, 50, 50, 50, 50, 50, 50, 50, 50, 50, 50, 30, 30, 30, 30, 30, 30, 30, 30, 30, 30, 30, 30, 30, 30, 30, 30, 30, 30, 30, 30, 30, 30, 35, 35, 35, 35, 35, 35, 35, 35, 35, 35, 35, 35, 35, 35, 35, 35, 35, 35, 35, 35, 35, 35, 65, 65, 65, 65, 65, 65, 65, 65, 65, 65, 65, 65, 65, 65, 65, 65, 65, 65, 65, 65, 65, 65, 30, 30, 30, 30, 30, 30, 30, 30, 30, 30, 30, 30, 30, 30, 30, 30, 30, 30, 30, 30, 30, 30]\n"
          ]
        }
      ]
    },
    {
      "cell_type": "code",
      "source": [
        "n=data.columns[8]\n",
        "print(n)"
      ],
      "metadata": {
        "colab": {
          "base_uri": "https://localhost:8080/"
        },
        "id": "m16s6WBKXle6",
        "outputId": "74ac0144-5092-4bf9-cf5e-cc686243dab1"
      },
      "execution_count": null,
      "outputs": [
        {
          "output_type": "stream",
          "name": "stdout",
          "text": [
            "age\n"
          ]
        }
      ]
    },
    {
      "cell_type": "code",
      "source": [
        "\n",
        "data.drop(n, axis = 1, inplace = True)\n"
      ],
      "metadata": {
        "id": "CFfs3Dh7TM_T"
      },
      "execution_count": null,
      "outputs": []
    },
    {
      "cell_type": "code",
      "source": [
        "data['age']=l"
      ],
      "metadata": {
        "id": "0KWTQmZHX28i"
      },
      "execution_count": null,
      "outputs": []
    },
    {
      "cell_type": "code",
      "source": [
        "data\n"
      ],
      "metadata": {
        "colab": {
          "base_uri": "https://localhost:8080/",
          "height": 423
        },
        "id": "wFKZXahEWQ7_",
        "outputId": "3a9bf0d4-f625-4b31-9bc7-9b245cde96c8"
      },
      "execution_count": null,
      "outputs": [
        {
          "output_type": "execute_result",
          "data": {
            "text/plain": [
              "     mean_activity  std_activity  min_activity  max_activity  days  marriage  \\\n",
              "0       146.948030    294.592424           0.0        3526.0   2.0       1.0   \n",
              "1       153.664748    330.801716           0.0        4228.0   2.0       1.0   \n",
              "2       265.299704    399.881083           3.0        3847.0   2.0       1.0   \n",
              "3       274.866998    446.048930           0.0        6776.0   2.0       1.0   \n",
              "4       167.245987    298.719629           0.0        4609.0   2.0       1.0   \n",
              "..             ...           ...           ...           ...   ...       ...   \n",
              "479      71.104090    136.137517           0.0        1355.0   1.0       2.0   \n",
              "480     157.240215    286.974106           0.0        8000.0   1.0       2.0   \n",
              "481      54.697992    148.185917           0.0        2150.0   1.0       2.0   \n",
              "482      79.480061    214.975597           0.0        3869.0   1.0       2.0   \n",
              "483     161.756063    253.512272           0.0        3222.0   1.0       2.0   \n",
              "\n",
              "     work  label  age  \n",
              "0     2.0    0.0   35  \n",
              "1     2.0    0.0   35  \n",
              "2     2.0    0.0   35  \n",
              "3     2.0    0.0   35  \n",
              "4     2.0    0.0   35  \n",
              "..    ...    ...  ...  \n",
              "479   2.0    0.0   30  \n",
              "480   2.0    0.0   30  \n",
              "481   2.0    0.0   30  \n",
              "482   2.0    0.0   30  \n",
              "483   2.0    0.0   30  \n",
              "\n",
              "[484 rows x 9 columns]"
            ],
            "text/html": [
              "\n",
              "  <div id=\"df-bb977ed0-370b-4de0-9048-ec54a29ec5ea\">\n",
              "    <div class=\"colab-df-container\">\n",
              "      <div>\n",
              "<style scoped>\n",
              "    .dataframe tbody tr th:only-of-type {\n",
              "        vertical-align: middle;\n",
              "    }\n",
              "\n",
              "    .dataframe tbody tr th {\n",
              "        vertical-align: top;\n",
              "    }\n",
              "\n",
              "    .dataframe thead th {\n",
              "        text-align: right;\n",
              "    }\n",
              "</style>\n",
              "<table border=\"1\" class=\"dataframe\">\n",
              "  <thead>\n",
              "    <tr style=\"text-align: right;\">\n",
              "      <th></th>\n",
              "      <th>mean_activity</th>\n",
              "      <th>std_activity</th>\n",
              "      <th>min_activity</th>\n",
              "      <th>max_activity</th>\n",
              "      <th>days</th>\n",
              "      <th>marriage</th>\n",
              "      <th>work</th>\n",
              "      <th>label</th>\n",
              "      <th>age</th>\n",
              "    </tr>\n",
              "  </thead>\n",
              "  <tbody>\n",
              "    <tr>\n",
              "      <th>0</th>\n",
              "      <td>146.948030</td>\n",
              "      <td>294.592424</td>\n",
              "      <td>0.0</td>\n",
              "      <td>3526.0</td>\n",
              "      <td>2.0</td>\n",
              "      <td>1.0</td>\n",
              "      <td>2.0</td>\n",
              "      <td>0.0</td>\n",
              "      <td>35</td>\n",
              "    </tr>\n",
              "    <tr>\n",
              "      <th>1</th>\n",
              "      <td>153.664748</td>\n",
              "      <td>330.801716</td>\n",
              "      <td>0.0</td>\n",
              "      <td>4228.0</td>\n",
              "      <td>2.0</td>\n",
              "      <td>1.0</td>\n",
              "      <td>2.0</td>\n",
              "      <td>0.0</td>\n",
              "      <td>35</td>\n",
              "    </tr>\n",
              "    <tr>\n",
              "      <th>2</th>\n",
              "      <td>265.299704</td>\n",
              "      <td>399.881083</td>\n",
              "      <td>3.0</td>\n",
              "      <td>3847.0</td>\n",
              "      <td>2.0</td>\n",
              "      <td>1.0</td>\n",
              "      <td>2.0</td>\n",
              "      <td>0.0</td>\n",
              "      <td>35</td>\n",
              "    </tr>\n",
              "    <tr>\n",
              "      <th>3</th>\n",
              "      <td>274.866998</td>\n",
              "      <td>446.048930</td>\n",
              "      <td>0.0</td>\n",
              "      <td>6776.0</td>\n",
              "      <td>2.0</td>\n",
              "      <td>1.0</td>\n",
              "      <td>2.0</td>\n",
              "      <td>0.0</td>\n",
              "      <td>35</td>\n",
              "    </tr>\n",
              "    <tr>\n",
              "      <th>4</th>\n",
              "      <td>167.245987</td>\n",
              "      <td>298.719629</td>\n",
              "      <td>0.0</td>\n",
              "      <td>4609.0</td>\n",
              "      <td>2.0</td>\n",
              "      <td>1.0</td>\n",
              "      <td>2.0</td>\n",
              "      <td>0.0</td>\n",
              "      <td>35</td>\n",
              "    </tr>\n",
              "    <tr>\n",
              "      <th>...</th>\n",
              "      <td>...</td>\n",
              "      <td>...</td>\n",
              "      <td>...</td>\n",
              "      <td>...</td>\n",
              "      <td>...</td>\n",
              "      <td>...</td>\n",
              "      <td>...</td>\n",
              "      <td>...</td>\n",
              "      <td>...</td>\n",
              "    </tr>\n",
              "    <tr>\n",
              "      <th>479</th>\n",
              "      <td>71.104090</td>\n",
              "      <td>136.137517</td>\n",
              "      <td>0.0</td>\n",
              "      <td>1355.0</td>\n",
              "      <td>1.0</td>\n",
              "      <td>2.0</td>\n",
              "      <td>2.0</td>\n",
              "      <td>0.0</td>\n",
              "      <td>30</td>\n",
              "    </tr>\n",
              "    <tr>\n",
              "      <th>480</th>\n",
              "      <td>157.240215</td>\n",
              "      <td>286.974106</td>\n",
              "      <td>0.0</td>\n",
              "      <td>8000.0</td>\n",
              "      <td>1.0</td>\n",
              "      <td>2.0</td>\n",
              "      <td>2.0</td>\n",
              "      <td>0.0</td>\n",
              "      <td>30</td>\n",
              "    </tr>\n",
              "    <tr>\n",
              "      <th>481</th>\n",
              "      <td>54.697992</td>\n",
              "      <td>148.185917</td>\n",
              "      <td>0.0</td>\n",
              "      <td>2150.0</td>\n",
              "      <td>1.0</td>\n",
              "      <td>2.0</td>\n",
              "      <td>2.0</td>\n",
              "      <td>0.0</td>\n",
              "      <td>30</td>\n",
              "    </tr>\n",
              "    <tr>\n",
              "      <th>482</th>\n",
              "      <td>79.480061</td>\n",
              "      <td>214.975597</td>\n",
              "      <td>0.0</td>\n",
              "      <td>3869.0</td>\n",
              "      <td>1.0</td>\n",
              "      <td>2.0</td>\n",
              "      <td>2.0</td>\n",
              "      <td>0.0</td>\n",
              "      <td>30</td>\n",
              "    </tr>\n",
              "    <tr>\n",
              "      <th>483</th>\n",
              "      <td>161.756063</td>\n",
              "      <td>253.512272</td>\n",
              "      <td>0.0</td>\n",
              "      <td>3222.0</td>\n",
              "      <td>1.0</td>\n",
              "      <td>2.0</td>\n",
              "      <td>2.0</td>\n",
              "      <td>0.0</td>\n",
              "      <td>30</td>\n",
              "    </tr>\n",
              "  </tbody>\n",
              "</table>\n",
              "<p>484 rows × 9 columns</p>\n",
              "</div>\n",
              "      <button class=\"colab-df-convert\" onclick=\"convertToInteractive('df-bb977ed0-370b-4de0-9048-ec54a29ec5ea')\"\n",
              "              title=\"Convert this dataframe to an interactive table.\"\n",
              "              style=\"display:none;\">\n",
              "        \n",
              "  <svg xmlns=\"http://www.w3.org/2000/svg\" height=\"24px\"viewBox=\"0 0 24 24\"\n",
              "       width=\"24px\">\n",
              "    <path d=\"M0 0h24v24H0V0z\" fill=\"none\"/>\n",
              "    <path d=\"M18.56 5.44l.94 2.06.94-2.06 2.06-.94-2.06-.94-.94-2.06-.94 2.06-2.06.94zm-11 1L8.5 8.5l.94-2.06 2.06-.94-2.06-.94L8.5 2.5l-.94 2.06-2.06.94zm10 10l.94 2.06.94-2.06 2.06-.94-2.06-.94-.94-2.06-.94 2.06-2.06.94z\"/><path d=\"M17.41 7.96l-1.37-1.37c-.4-.4-.92-.59-1.43-.59-.52 0-1.04.2-1.43.59L10.3 9.45l-7.72 7.72c-.78.78-.78 2.05 0 2.83L4 21.41c.39.39.9.59 1.41.59.51 0 1.02-.2 1.41-.59l7.78-7.78 2.81-2.81c.8-.78.8-2.07 0-2.86zM5.41 20L4 18.59l7.72-7.72 1.47 1.35L5.41 20z\"/>\n",
              "  </svg>\n",
              "      </button>\n",
              "      \n",
              "  <style>\n",
              "    .colab-df-container {\n",
              "      display:flex;\n",
              "      flex-wrap:wrap;\n",
              "      gap: 12px;\n",
              "    }\n",
              "\n",
              "    .colab-df-convert {\n",
              "      background-color: #E8F0FE;\n",
              "      border: none;\n",
              "      border-radius: 50%;\n",
              "      cursor: pointer;\n",
              "      display: none;\n",
              "      fill: #1967D2;\n",
              "      height: 32px;\n",
              "      padding: 0 0 0 0;\n",
              "      width: 32px;\n",
              "    }\n",
              "\n",
              "    .colab-df-convert:hover {\n",
              "      background-color: #E2EBFA;\n",
              "      box-shadow: 0px 1px 2px rgba(60, 64, 67, 0.3), 0px 1px 3px 1px rgba(60, 64, 67, 0.15);\n",
              "      fill: #174EA6;\n",
              "    }\n",
              "\n",
              "    [theme=dark] .colab-df-convert {\n",
              "      background-color: #3B4455;\n",
              "      fill: #D2E3FC;\n",
              "    }\n",
              "\n",
              "    [theme=dark] .colab-df-convert:hover {\n",
              "      background-color: #434B5C;\n",
              "      box-shadow: 0px 1px 3px 1px rgba(0, 0, 0, 0.15);\n",
              "      filter: drop-shadow(0px 1px 2px rgba(0, 0, 0, 0.3));\n",
              "      fill: #FFFFFF;\n",
              "    }\n",
              "  </style>\n",
              "\n",
              "      <script>\n",
              "        const buttonEl =\n",
              "          document.querySelector('#df-bb977ed0-370b-4de0-9048-ec54a29ec5ea button.colab-df-convert');\n",
              "        buttonEl.style.display =\n",
              "          google.colab.kernel.accessAllowed ? 'block' : 'none';\n",
              "\n",
              "        async function convertToInteractive(key) {\n",
              "          const element = document.querySelector('#df-bb977ed0-370b-4de0-9048-ec54a29ec5ea');\n",
              "          const dataTable =\n",
              "            await google.colab.kernel.invokeFunction('convertToInteractive',\n",
              "                                                     [key], {});\n",
              "          if (!dataTable) return;\n",
              "\n",
              "          const docLinkHtml = 'Like what you see? Visit the ' +\n",
              "            '<a target=\"_blank\" href=https://colab.research.google.com/notebooks/data_table.ipynb>data table notebook</a>'\n",
              "            + ' to learn more about interactive tables.';\n",
              "          element.innerHTML = '';\n",
              "          dataTable['output_type'] = 'display_data';\n",
              "          await google.colab.output.renderOutput(dataTable, element);\n",
              "          const docLink = document.createElement('div');\n",
              "          docLink.innerHTML = docLinkHtml;\n",
              "          element.appendChild(docLink);\n",
              "        }\n",
              "      </script>\n",
              "    </div>\n",
              "  </div>\n",
              "  "
            ]
          },
          "metadata": {},
          "execution_count": 114
        }
      ]
    },
    {
      "cell_type": "code",
      "source": [
        "# Split data into training and test sets\n",
        "X = data.drop(columns=['label'])\n",
        "y = data['label']\n",
        "X_train, X_test, y_train, y_test = train_test_split(X, y, test_size=0.3, random_state=42, stratify=y)\n"
      ],
      "metadata": {
        "id": "Cv0UfPl2ZxrY"
      },
      "execution_count": null,
      "outputs": []
    },
    {
      "cell_type": "code",
      "source": [
        "# Visualize distribution of age groups\n",
        "sns.countplot(x=\"age\", data=data)\n",
        "plt.title(\"Age Group Distribution\")\n",
        "plt.show()\n"
      ],
      "metadata": {
        "id": "-7LeNa26nWq3",
        "outputId": "60b11e37-e088-4bbc-ac10-66445cf94090",
        "colab": {
          "base_uri": "https://localhost:8080/",
          "height": 472
        }
      },
      "execution_count": null,
      "outputs": [
        {
          "output_type": "display_data",
          "data": {
            "text/plain": [
              "<Figure size 640x480 with 1 Axes>"
            ],
            "image/png": "[encoded data removed]"
          },
          "metadata": {}
        }
      ]
    },
    {
      "cell_type": "code",
      "source": [
        "data['age']"
      ],
      "metadata": {
        "colab": {
          "base_uri": "https://localhost:8080/"
        },
        "id": "JkIzJ2J5YHts",
        "outputId": "b72019c6-f460-4097-aa8e-f899dc3f8e90"
      },
      "execution_count": null,
      "outputs": [
        {
          "output_type": "execute_result",
          "data": {
            "text/plain": [
              "0      35\n",
              "1      35\n",
              "2      35\n",
              "3      35\n",
              "4      35\n",
              "       ..\n",
              "479    30\n",
              "480    30\n",
              "481    30\n",
              "482    30\n",
              "483    30\n",
              "Name: age, Length: 484, dtype: int64"
            ]
          },
          "metadata": {},
          "execution_count": 116
        }
      ]
    },
    {
      "cell_type": "code",
      "source": [
        "\n",
        "\n",
        "# Handle imbalanced data\n",
        "smote = SMOTE(sampling_strategy='minority', random_state=42)\n",
        "X_train_resampled, y_train_resampled = smote.fit_resample(X_train, y_train)\n"
      ],
      "metadata": {
        "id": "5kK95rStX1hS"
      },
      "execution_count": null,
      "outputs": []
    },
    {
      "cell_type": "code",
      "source": [
        "# Scale the data\n",
        "scaler = StandardScaler()\n",
        "X_train_resampled = scaler.fit_transform(X_train_resampled)\n",
        "X_test = scaler.transform(X_test)"
      ],
      "metadata": {
        "id": "M-K5NjIFfAeu"
      },
      "execution_count": null,
      "outputs": []
    },
    {
      "cell_type": "code",
      "source": [
        "# Train and evaluate models\n",
        "models = {\n",
        "    'Logistic Regression': LogisticRegression(),\n",
        "    'Random Forest': RandomForestClassifier(),\n",
        "    'SVM': SVC(),\n",
        "    'Decision Tree': DecisionTreeClassifier(),\n",
        "    'K-Nearest Neighbors': KNeighborsClassifier(),\n",
        "    'Gradient Boosting': GradientBoostingClassifier()\n",
        "}"
      ],
      "metadata": {
        "id": "2bBKqMfwfZEo"
      },
      "execution_count": null,
      "outputs": []
    },
    {
      "cell_type": "code",
      "source": [
        "for name, model in models.items():\n",
        "    model.fit(X_train_resampled, y_train_resampled)\n",
        "    y_pred = model.predict(X_test)\n",
        "    accuracy = accuracy_score(y_test, y_pred)\n",
        "    print(f\"{name} Accuracy: {accuracy * 100:.2f}%\")\n",
        "    print(\"Classification Report:\")\n",
        "    print(classification_report(y_test, y_pred))\n",
        "    print(\"Confusion Matrix:\")\n",
        "    print(confusion_matrix(y_test, y_pred))\n",
        "    print(\"\\n\")\n"
      ],
      "metadata": {
        "colab": {
          "base_uri": "https://localhost:8080/"
        },
        "id": "iSfdJ70ifkhx",
        "outputId": "74bede24-dced-47e0-943b-f38c62de0af1"
      },
      "execution_count": null,
      "outputs": [
        {
          "output_type": "stream",
          "name": "stdout",
          "text": [
            "Logistic Regression Accuracy: 61.64%\n",
            "Classification Report:\n",
            "              precision    recall  f1-score   support\n",
            "\n",
            "         0.0       0.78      0.62      0.69       100\n",
            "         1.0       0.42      0.61      0.50        46\n",
            "\n",
            "    accuracy                           0.62       146\n",
            "   macro avg       0.60      0.61      0.59       146\n",
            "weighted avg       0.66      0.62      0.63       146\n",
            "\n",
            "Confusion Matrix:\n",
            "[[62 38]\n",
            " [18 28]]\n",
            "\n",
            "\n",
            "Random Forest Accuracy: 79.45%\n",
            "Classification Report:\n",
            "              precision    recall  f1-score   support\n",
            "\n",
            "         0.0       0.82      0.89      0.86       100\n",
            "         1.0       0.71      0.59      0.64        46\n",
            "\n",
            "    accuracy                           0.79       146\n",
            "   macro avg       0.77      0.74      0.75       146\n",
            "weighted avg       0.79      0.79      0.79       146\n",
            "\n",
            "Confusion Matrix:\n",
            "[[89 11]\n",
            " [19 27]]\n",
            "\n",
            "\n",
            "SVM Accuracy: 71.23%\n",
            "Classification Report:\n",
            "              precision    recall  f1-score   support\n",
            "\n",
            "         0.0       0.78      0.80      0.79       100\n",
            "         1.0       0.55      0.52      0.53        46\n",
            "\n",
            "    accuracy                           0.71       146\n",
            "   macro avg       0.66      0.66      0.66       146\n",
            "weighted avg       0.71      0.71      0.71       146\n",
            "\n",
            "Confusion Matrix:\n",
            "[[80 20]\n",
            " [22 24]]\n",
            "\n",
            "\n",
            "Decision Tree Accuracy: 82.88%\n",
            "Classification Report:\n",
            "              precision    recall  f1-score   support\n",
            "\n",
            "         0.0       0.86      0.89      0.88       100\n",
            "         1.0       0.74      0.70      0.72        46\n",
            "\n",
            "    accuracy                           0.83       146\n",
            "   macro avg       0.80      0.79      0.80       146\n",
            "weighted avg       0.83      0.83      0.83       146\n",
            "\n",
            "Confusion Matrix:\n",
            "[[89 11]\n",
            " [14 32]]\n",
            "\n",
            "\n",
            "K-Nearest Neighbors Accuracy: 71.92%\n",
            "Classification Report:\n",
            "              precision    recall  f1-score   support\n",
            "\n",
            "         0.0       0.79      0.81      0.80       100\n",
            "         1.0       0.56      0.52      0.54        46\n",
            "\n",
            "    accuracy                           0.72       146\n",
            "   macro avg       0.67      0.67      0.67       146\n",
            "weighted avg       0.71      0.72      0.72       146\n",
            "\n",
            "Confusion Matrix:\n",
            "[[81 19]\n",
            " [22 24]]\n",
            "\n",
            "\n",
            "Gradient Boosting Accuracy: 83.56%\n",
            "Classification Report:\n",
            "              precision    recall  f1-score   support\n",
            "\n",
            "         0.0       0.87      0.90      0.88       100\n",
            "         1.0       0.76      0.70      0.73        46\n",
            "\n",
            "    accuracy                           0.84       146\n",
            "   macro avg       0.81      0.80      0.80       146\n",
            "weighted avg       0.83      0.84      0.83       146\n",
            "\n",
            "Confusion Matrix:\n",
            "[[90 10]\n",
            " [14 32]]\n",
            "\n",
            "\n"
          ]
        }
      ]
    },
    {
      "cell_type": "code",
      "source": [
        "# Cross-validation\n",
        "for name, model in models.items():\n",
        "    scores = cross_val_score(model, X_train_resampled, y_train_resampled, cv=5, scoring='accuracy')\n",
        "    print(f\"{name} Cross-Validation Accuracy: {scores.mean() * 100:.2f}% (+/- {scores.std() * 100:.2f})\")\n",
        "\n",
        "# Feature importance (for Random Forest)\n",
        "rf_model = models['Random Forest']\n",
        "importances = rf_model.feature_importances_\n",
        "feature_importances = pd.Series(importances, index=X.columns).sort_values(ascending=False)\n",
        "print(\"Feature importances (Random Forest):\")\n",
        "print(feature_importances)"
      ],
      "metadata": {
        "colab": {
          "base_uri": "https://localhost:8080/"
        },
        "id": "OVU7Iao5Xwz8",
        "outputId": "c5044c11-1648-40d7-b8d5-e44adbc97b5b"
      },
      "execution_count": null,
      "outputs": [
        {
          "output_type": "stream",
          "name": "stdout",
          "text": [
            "Logistic Regression Cross-Validation Accuracy: 66.09% (+/- 4.58)\n",
            "Random Forest Cross-Validation Accuracy: 89.35% (+/- 3.85)\n",
            "SVM Cross-Validation Accuracy: 77.39% (+/- 5.21)\n",
            "Decision Tree Cross-Validation Accuracy: 88.70% (+/- 3.74)\n",
            "K-Nearest Neighbors Cross-Validation Accuracy: 84.35% (+/- 1.11)\n",
            "Gradient Boosting Cross-Validation Accuracy: 90.65% (+/- 3.93)\n",
            "Feature importances (Random Forest):\n",
            "age              0.432777\n",
            "marriage         0.207413\n",
            "days             0.130806\n",
            "work             0.074981\n",
            "mean_activity    0.054291\n",
            "std_activity     0.049334\n",
            "max_activity     0.044657\n",
            "min_activity     0.005741\n",
            "dtype: float64\n"
          ]
        }
      ]
    },
    {
      "cell_type": "code",
      "source": [
        "# Hyperparameter tuning (for Random Forest)\n",
        "param_grid = {\n",
        "    'n_estimators': [10, 50, 100, 200],\n",
        "    'max_depth': [None, 10, 20, 30],\n",
        "    'min_samples_split': [2, 5, 10],\n",
        "    'min_samples_leaf': [1, 2, 4],\n",
        "    'bootstrap': [True, False]\n",
        "}\n",
        "\n",
        "grid_search = GridSearchCV(RandomForestClassifier(), param_grid, cv=5, scoring='accuracy')\n",
        "grid_search.fit(X_train_resampled, y_train_resampled)\n",
        "print(\"Best parameters for Random Forest:\")\n",
        "print(grid_search.best_params_)\n",
        "print(\"Best score for Random Forest:\")\n",
        "print(grid_search.best_score_)\n"
      ],
      "metadata": {
        "colab": {
          "base_uri": "https://localhost:8080/"
        },
        "id": "BHRaaVnPZ1Nc",
        "outputId": "bb9b743b-ab69-40c7-bf84-0f0227631399"
      },
      "execution_count": null,
      "outputs": [
        {
          "output_type": "stream",
          "name": "stdout",
          "text": [
            "Best parameters for Random Forest:\n",
            "{'bootstrap': True, 'max_depth': 10, 'min_samples_leaf': 4, 'min_samples_split': 10, 'n_estimators': 10}\n",
            "Best score for Random Forest:\n",
            "0.9260869565217391\n"
          ]
        }
      ]
    },
    {
      "cell_type": "code",
      "source": [
        "# Evaluate the best model\n",
        "best_rf = grid_search.best_estimator_\n",
        "y_pred = best_rf.predict(X_test)\n",
        "accuracy = accuracy_score(y_test, y_pred)\n",
        "print(f\"Random Forest (Tuned) Accuracy: {accuracy * 100:.2f}%\")\n",
        "print(\"Classification Report:\")\n",
        "print(classification_report(y_test, y_pred))\n",
        "print(\"Confusion Matrix:\")\n",
        "print(confusion_matrix(y_test, y_pred))\n",
        "print(\"\\n\")"
      ],
      "metadata": {
        "colab": {
          "base_uri": "https://localhost:8080/"
        },
        "id": "71JczJuAiWaI",
        "outputId": "59fad010-9581-4c6c-c999-373d3a50edf7"
      },
      "execution_count": null,
      "outputs": [
        {
          "output_type": "stream",
          "name": "stdout",
          "text": [
            "Random Forest (Tuned) Accuracy: 78.08%\n",
            "Classification Report:\n",
            "              precision    recall  f1-score   support\n",
            "\n",
            "         0.0       0.81      0.89      0.85       100\n",
            "         1.0       0.69      0.54      0.61        46\n",
            "\n",
            "    accuracy                           0.78       146\n",
            "   macro avg       0.75      0.72      0.73       146\n",
            "weighted avg       0.77      0.78      0.77       146\n",
            "\n",
            "Confusion Matrix:\n",
            "[[89 11]\n",
            " [21 25]]\n",
            "\n",
            "\n"
          ]
        }
      ]
    },
    {
      "cell_type": "code",
      "source": [
        "import seaborn as sns\n",
        "import matplotlib.pyplot as plt\n",
        "from sklearn.metrics import confusion_matrix, classification_report\n",
        "\n",
        "# Get the best model and make predictions\n",
        "best_rf = grid_search.best_estimator_\n",
        "y_pred = best_rf.predict(X_test)\n",
        "\n",
        "# Calculate accuracy and print results\n",
        "accuracy = accuracy_score(y_test, y_pred)\n",
        "print(f\"Random Forest (Tuned) Accuracy: {accuracy * 100:.2f}%\")\n",
        "print(\"Classification Report:\")\n",
        "print(classification_report(y_test, y_pred))\n",
        "\n",
        "# Generate and plot confusion matrix\n",
        "cm = confusion_matrix(y_test, y_pred)\n",
        "sns.heatmap(cm, annot=True, cmap='Blues', fmt='g', cbar=False)\n",
        "plt.xlabel('Predicted Label', fontsize=12)\n",
        "plt.ylabel('True Label', fontsize=12)\n",
        "plt.title('Confusion Matrix', fontsize=14)\n",
        "plt.show()\n",
        "\n",
        "# Plot evaluation metrics\n",
        "report = classification_report(y_test, y_pred, output_dict=True)\n",
        "accuracy = report['accuracy']\n",
        "precision = report['weighted avg']['precision']\n",
        "recall = report['weighted avg']['recall']\n",
        "f1_score = report['weighted avg']['f1-score']\n",
        "\n",
        "fig, ax = plt.subplots(figsize=(6, 4))\n",
        "sns.barplot(x=['Accuracy', 'Precision', 'Recall', 'F1 Score'],\n",
        "            y=[accuracy, precision, recall, f1_score], ax=ax)\n",
        "ax.set_ylim([0, 1])\n",
        "ax.set_title('Evaluation Metrics')\n",
        "plt.show()\n"
      ],
      "metadata": {
        "colab": {
          "base_uri": "https://localhost:8080/",
          "height": 1000
        },
        "id": "4y8jpCWMe3q8",
        "outputId": "9a92bd23-87ae-4667-dbb5-2ad5e4d0f7c1"
      },
      "execution_count": null,
      "outputs": [
        {
          "output_type": "stream",
          "name": "stdout",
          "text": [
            "Random Forest (Tuned) Accuracy: 78.08%\n",
            "Classification Report:\n",
            "              precision    recall  f1-score   support\n",
            "\n",
            "         0.0       0.81      0.89      0.85       100\n",
            "         1.0       0.69      0.54      0.61        46\n",
            "\n",
            "    accuracy                           0.78       146\n",
            "   macro avg       0.75      0.72      0.73       146\n",
            "weighted avg       0.77      0.78      0.77       146\n",
            "\n"
          ]
        },
        {
          "output_type": "display_data",
          "data": {
            "text/plain": [
              "<Figure size 640x480 with 1 Axes>"
            ],
            "image/png": "[encoded data removed]"
          },
          "metadata": {}
        },
        {
          "output_type": "display_data",
          "data": {
            "text/plain": [
              "<Figure size 600x400 with 1 Axes>"
            ],
            "image/png": "[encoded data removed]"
          },
          "metadata": {}
        }
      ]
    },
    {
      "cell_type": "code",
      "source": [
        "import seaborn as sns\n",
        "import matplotlib.pyplot as plt\n",
        "\n",
        "# Define the data\n",
        "precision = 0.81\n",
        "recall = 0.89\n",
        "f1_score = 0.85\n",
        "\n",
        "# Create the bar chart\n",
        "fig, ax = plt.subplots(figsize=(6, 4))\n",
        "sns.barplot(x=['Precision', 'Recall', 'F1 Score'],\n",
        "            y=[precision, recall, f1_score], ax=ax)\n",
        "ax.set_ylim([0, 1])\n",
        "ax.set_title('Evaluation Metrics for Random Forest')\n",
        "plt.show()\n"
      ],
      "metadata": {
        "colab": {
          "base_uri": "https://localhost:8080/",
          "height": 391
        },
        "id": "FTZGpH29e3fI",
        "outputId": "11fb2baa-4697-4ad3-c153-056c12975a70"
      },
      "execution_count": null,
      "outputs": [
        {
          "output_type": "display_data",
          "data": {
            "text/plain": [
              "<Figure size 600x400 with 1 Axes>"
            ],
            "image/png": "[encoded data removed]"
          },
          "metadata": {}
        }
      ]
    },
    {
      "cell_type": "code",
      "source": [
        "import seaborn as sns\n",
        "import matplotlib.pyplot as plt\n",
        "from sklearn.metrics import confusion_matrix\n",
        "\n",
        "# Get the best model and make predictions\n",
        "best_rf = grid_search.best_estimator_\n",
        "y_pred = best_rf.predict(X_test)\n",
        "\n",
        "# Calculate accuracy and print results\n",
        "accuracy = accuracy_score(y_test, y_pred)\n",
        "print(f\"Random Forest (Tuned) Accuracy: {accuracy * 100:.2f}%\")\n",
        "print(\"Classification Report:\")\n",
        "print(classification_report(y_test, y_pred))\n",
        "\n",
        "# Generate and plot confusion matrix\n",
        "cm = confusion_matrix(y_test, y_pred)\n",
        "ax = sns.heatmap(cm, annot=True, cmap='Blues', fmt='g', cbar=False)\n",
        "ax.set_xlabel('Predicted Label', fontsize=12)\n",
        "ax.set_ylabel('True Label', fontsize=12)\n",
        "ax.set_title('Confusion Matrix for Random forest', fontsize=14)\n",
        "plt.show()\n"
      ],
      "metadata": {
        "colab": {
          "base_uri": "https://localhost:8080/",
          "height": 675
        },
        "id": "M90f8jEqdq3t",
        "outputId": "ae930e20-6bef-4dc0-edb3-33d0b91904d0"
      },
      "execution_count": null,
      "outputs": [
        {
          "output_type": "stream",
          "name": "stdout",
          "text": [
            "Random Forest (Tuned) Accuracy: 78.08%\n",
            "Classification Report:\n",
            "              precision    recall  f1-score   support\n",
            "\n",
            "         0.0       0.81      0.89      0.85       100\n",
            "         1.0       0.69      0.54      0.61        46\n",
            "\n",
            "    accuracy                           0.78       146\n",
            "   macro avg       0.75      0.72      0.73       146\n",
            "weighted avg       0.77      0.78      0.77       146\n",
            "\n"
          ]
        },
        {
          "output_type": "display_data",
          "data": {
            "text/plain": [
              "<Figure size 640x480 with 1 Axes>"
            ],
            "image/png": "[encoded data removed]"
          },
          "metadata": {}
        }
      ]
    },
    {
      "cell_type": "code",
      "source": [
        "import seaborn as sns\n",
        "import matplotlib.pyplot as plt\n",
        "from sklearn.metrics import classification_report\n",
        "\n",
        "# Get the best model and make predictions\n",
        "best_rf = grid_search.best_estimator_\n",
        "y_pred = best_rf.predict(X_test)\n",
        "\n",
        "# Generate classification report\n",
        "report = classification_report(y_test, y_pred, output_dict=True)\n",
        "\n",
        "# Extract evaluation metrics\n",
        "accuracy = report['accuracy']\n",
        "precision = report['weighted avg']['precision']\n",
        "recall = report['weighted avg']['recall']\n",
        "f1_score = report['weighted avg']['f1-score']\n",
        "\n",
        "# Plot evaluation metrics\n",
        "fig, ax = plt.subplots(figsize=(6, 4))\n",
        "sns.barplot(x=['Accuracy', 'Precision', 'Recall', 'F1 Score'],\n",
        "            y=[accuracy, precision, recall, f1_score], ax=ax)\n",
        "ax.set_ylim([0, 1])\n",
        "ax.set_title('Evaluation Metrics')\n",
        "plt.show()\n"
      ],
      "metadata": {
        "colab": {
          "base_uri": "https://localhost:8080/",
          "height": 391
        },
        "id": "5983BkmzebNN",
        "outputId": "d050092d-a26d-4ce2-b679-4c42b16bdd6d"
      },
      "execution_count": null,
      "outputs": [
        {
          "output_type": "display_data",
          "data": {
            "text/plain": [
              "<Figure size 600x400 with 1 Axes>"
            ],
            "image/png": "[encoded data removed]"
          },
          "metadata": {}
        }
      ]
    },
    {
      "cell_type": "code",
      "source": [
        "import matplotlib.pyplot as plt\n",
        "\n",
        "# Calculate accuracy for each model\n",
        "accuracy_results = {}\n",
        "for name, model in models.items():\n",
        "    model.fit(X_train, y_train)\n",
        "    y_pred = model.predict(X_test)\n",
        "    accuracy = accuracy_score(y_test, y_pred)\n",
        "    accuracy_results[name] = accuracy\n",
        "\n",
        "# Create a bar chart to visualize the accuracy of different models\n",
        "fig, ax = plt.subplots(figsize=(4, 2))\n",
        "ax.bar(accuracy_results.keys(), accuracy_results.values())\n",
        "ax.set_ylim([0, 1])\n",
        "ax.set_ylabel('Accuracy')\n",
        "ax.set_title('Accuracy of Different Models')\n",
        "plt.xticks(rotation=45)\n",
        "plt.show()\n"
      ],
      "metadata": {
        "colab": {
          "base_uri": "https://localhost:8080/",
          "height": 713
        },
        "id": "zbE-IsWYdWtf",
        "outputId": "7afff9b4-1fe5-422d-801c-77e80b7f8d78"
      },
      "execution_count": null,
      "outputs": [
        {
          "output_type": "stream",
          "name": "stderr",
          "text": [
            "/usr/local/lib/python3.10/dist-packages/sklearn/linear_model/_logistic.py:458: ConvergenceWarning: lbfgs failed to converge (status=1):\n",
            "STOP: TOTAL NO. of ITERATIONS REACHED LIMIT.\n",
            "\n",
            "Increase the number of iterations (max_iter) or scale the data as shown in:\n",
            "    https://scikit-learn.org/stable/modules/preprocessing.html\n",
            "Please also refer to the documentation for alternative solver options:\n",
            "    https://scikit-learn.org/stable/modules/linear_model.html#logistic-regression\n",
            "  n_iter_i = _check_optimize_result(\n",
            "/usr/local/lib/python3.10/dist-packages/sklearn/base.py:439: UserWarning: X does not have valid feature names, but LogisticRegression was fitted with feature names\n",
            "  warnings.warn(\n",
            "/usr/local/lib/python3.10/dist-packages/sklearn/base.py:439: UserWarning: X does not have valid feature names, but RandomForestClassifier was fitted with feature names\n",
            "  warnings.warn(\n",
            "/usr/local/lib/python3.10/dist-packages/sklearn/base.py:439: UserWarning: X does not have valid feature names, but SVC was fitted with feature names\n",
            "  warnings.warn(\n",
            "/usr/local/lib/python3.10/dist-packages/sklearn/base.py:439: UserWarning: X does not have valid feature names, but DecisionTreeClassifier was fitted with feature names\n",
            "  warnings.warn(\n",
            "/usr/local/lib/python3.10/dist-packages/sklearn/base.py:439: UserWarning: X does not have valid feature names, but KNeighborsClassifier was fitted with feature names\n",
            "  warnings.warn(\n",
            "/usr/local/lib/python3.10/dist-packages/sklearn/base.py:439: UserWarning: X does not have valid feature names, but GradientBoostingClassifier was fitted with feature names\n",
            "  warnings.warn(\n"
          ]
        },
        {
          "output_type": "display_data",
          "data": {
            "text/plain": [
              "<Figure size 400x200 with 1 Axes>"
            ],
            "image/png": "[encoded data removed]"
          },
          "metadata": {}
        }
      ]
    },
    {
      "cell_type": "code",
      "source": [],
      "metadata": {
        "id": "SG94m4lgdq3E"
      },
      "execution_count": null,
      "outputs": []
    }
  ]
}